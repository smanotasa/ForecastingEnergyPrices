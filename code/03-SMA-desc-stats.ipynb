{
 "cells": [
  {
   "attachments": {},
   "cell_type": "markdown",
   "metadata": {},
   "source": [
    "### Libraries, paths, and set-up"
   ]
  },
  {
   "cell_type": "code",
   "execution_count": 1,
   "metadata": {},
   "outputs": [],
   "source": [
    "import pandas as pd\n",
    "import numpy as np\n",
    "import os\n",
    "os.chdir('/Users/manotas/Documents/GitHub-Repos/ML-Energy-Colombia')\n",
    "from tabulate import tabulate\n",
    "from scipy.stats import skew, kurtosis, jarque_bera\n",
    "from statsmodels.tsa.stattools import adfuller, kpss\n",
    "from src.data.loader import data_loader\n",
    "from tqdm import tqdm \n",
    "import warnings\n",
    "warnings.filterwarnings('ignore')\n",
    "\n",
    "if not os.path.exists('reports/tables'):\n",
    "    os.mkdir('reports/tables')"
   ]
  },
  {
   "cell_type": "code",
   "execution_count": 26,
   "metadata": {},
   "outputs": [],
   "source": [
    "# Processed dataframes\n",
    "soi, capacity, askprice, bidprice, resource, demand, supply, price_fuel, mcost, generation = data_loader()"
   ]
  },
  {
   "cell_type": "code",
   "execution_count": 27,
   "metadata": {},
   "outputs": [],
   "source": [
    "supply = supply.drop(columns=['agent_code','plant'])\n",
    "demand = demand.drop(columns=['distributor_code'])\n",
    "generation = generation.drop(columns=['plant', 'technology', 'fuel', 'agent_code', 'dispatch_type'])\n"
   ]
  },
  {
   "cell_type": "code",
   "execution_count": 28,
   "metadata": {},
   "outputs": [],
   "source": [
    "dataframes = {'bidprice': bidprice, 'demand': demand, 'supply': supply, 'mcost': mcost, 'generation': generation}\n",
    "\n",
    "for name, df in dataframes.items():\n",
    "    df['datetime'] = pd.to_datetime(df['datetime'])\n",
    "    df.set_index('datetime', inplace=True)\n",
    "    dataframes[name] = df.resample('D').mean()\n",
    "\n",
    "# Unpack dataframes from dictionary to global variables\n",
    "globals().update(dataframes)\n"
   ]
  },
  {
   "attachments": {},
   "cell_type": "markdown",
   "metadata": {},
   "source": [
    "### Descriptive statistics\n",
    "An example to build a custom function that returns relevant descriptive stats for a given variable within a column, directly outputting into a LaTeX table for further usage"
   ]
  },
  {
   "cell_type": "code",
   "execution_count": 51,
   "metadata": {},
   "outputs": [],
   "source": [
    "def ts_summary(df, col, tf=True):\n",
    "    if col not in df.columns:\n",
    "        print(f'Column {col} not found in dataframe')\n",
    "        return None\n",
    "    \n",
    "    df = df.dropna()\n",
    "    col_data = df[col].copy()\n",
    "    \n",
    "    \n",
    "    if tf:\n",
    "        col_data = np.log(col_data).fillna(0)\n",
    "        col_data = col_data.diff().dropna()\n",
    "        col_data = col_data.replace([np.inf, -np.inf], np.nan)\n",
    "        col_data = col_data.dropna()\n",
    "\n",
    "\n",
    "    results = {\n",
    "        'Mean': col_data.mean(),\n",
    "        'SD': col_data.std(),\n",
    "        'Skewness': skew(col_data),\n",
    "        'Kurtosis': kurtosis(col_data),\n",
    "        'JB Test_pval': jarque_bera(col_data)[1],\n",
    "        'ADF Test_pval': adfuller(col_data)[1],\n",
    "        'KPSS Test_pval': kpss(col_data, regression='c')[1]\n",
    "    }\n",
    "    return results"
   ]
  },
  {
   "cell_type": "code",
   "execution_count": 38,
   "metadata": {},
   "outputs": [
    {
     "name": "stderr",
     "output_type": "stream",
     "text": [
      "\n",
      "\u001b[A\n",
      "\u001b[A\n",
      "\u001b[A\n",
      "\u001b[A\n",
      "\u001b[A\n",
      "\u001b[A\n",
      "\u001b[A\n",
      "\u001b[A\n",
      "100%|██████████| 8/8 [01:04<00:00,  8.10s/it]\n"
     ]
    }
   ],
   "source": [
    "# Dictionary of datasets and corresponding columns\n",
    "data_dict = {\n",
    "    'capacity_kW': capacity,\n",
    "    'daily_ask': askprice,\n",
    "    'soi': soi,\n",
    "    'hourly_bid': bidprice,\n",
    "    'hourly_mc': mcost,\n",
    "    'generation_hourly': generation,\n",
    "    'demand_hourly': demand,\n",
    "    'supply_hourly':supply,\n",
    "}\n",
    "\n",
    "# Applying the function to each specified column of each dataframe\n",
    "results = [ts_summary(df, col, tf=False) for col, df in tqdm(data_dict.items())]\n",
    "results_df = pd.DataFrame(results, index=data_dict.keys())\n",
    "\n",
    "# Converting the results dataframe to a LaTeX table\n",
    "latex_table = tabulate(results_df, tablefmt='latex', headers='keys')\n",
    "\n",
    "# Writing the table to a .tex file\n",
    "with open('reports/tables/descstats_lvl.tex', 'w') as file:\n",
    "    file.write(latex_table)\n"
   ]
  },
  {
   "cell_type": "code",
   "execution_count": 52,
   "metadata": {},
   "outputs": [
    {
     "name": "stderr",
     "output_type": "stream",
     "text": [
      "\n",
      "\n",
      "\n",
      "\n",
      "\n",
      "\u001b[A\u001b[A\u001b[A\u001b[A\u001b[A\n",
      "\n",
      "\n",
      "\n",
      "\n",
      "\u001b[A\u001b[A\u001b[A\u001b[A\u001b[A\n",
      "\n",
      "\n",
      "\n",
      "\n",
      "\u001b[A\u001b[A\u001b[A\u001b[A\u001b[A\n",
      "\n",
      "\n",
      "\n",
      "\n",
      "\u001b[A\u001b[A\u001b[A\u001b[A\u001b[A\n",
      "\n",
      "\n",
      "\n",
      "\n",
      "\u001b[A\u001b[A\u001b[A\u001b[A\u001b[A\n",
      "\n",
      "\n",
      "\n",
      "\n",
      "\u001b[A\u001b[A\u001b[A\u001b[A\u001b[A\n",
      "\n",
      "\n",
      "\n",
      "\n",
      "\u001b[A\u001b[A\u001b[A\u001b[A\u001b[A\n",
      "\n",
      "\n",
      "\n",
      "\n",
      "\u001b[A\u001b[A\u001b[A\u001b[A\u001b[A\n",
      "\n",
      "\n",
      "\n",
      "\n",
      "100%|██████████| 8/8 [01:06<00:00,  8.25s/it]\n"
     ]
    }
   ],
   "source": [
    "# Dictionary of datasets and corresponding columns\n",
    "data_dict = {\n",
    "    'capacity_kW': capacity,\n",
    "    'daily_ask': askprice,\n",
    "    'soi': soi,\n",
    "    'hourly_bid': bidprice,\n",
    "    'hourly_mc': mcost,\n",
    "    'generation_hourly': generation,\n",
    "    'demand_hourly': demand,\n",
    "    'supply_hourly':supply,\n",
    "}\n",
    "\n",
    "# Applying the function to each specified column of each dataframe\n",
    "resultstf = [ts_summary(df, col, tf=True) for col, df in tqdm(data_dict.items())]\n",
    "resultstf_df = pd.DataFrame(results, index=data_dict.keys())\n",
    "\n",
    "# Converting the results dataframe to a LaTeX table\n",
    "latex_tabletf = tabulate(resultstf_df, tablefmt='latex', headers='keys')\n",
    "\n",
    "# Writing the table to a .tex file\n",
    "with open('reports/tables/descstats_tf.tex', 'w') as file:\n",
    "    file.write(latex_tabletf)"
   ]
  }
 ],
 "metadata": {
  "kernelspec": {
   "display_name": "Python 3",
   "language": "python",
   "name": "python3"
  },
  "language_info": {
   "codemirror_mode": {
    "name": "ipython",
    "version": 3
   },
   "file_extension": ".py",
   "mimetype": "text/x-python",
   "name": "python",
   "nbconvert_exporter": "python",
   "pygments_lexer": "ipython3",
   "version": "3.11.3"
  },
  "orig_nbformat": 4
 },
 "nbformat": 4,
 "nbformat_minor": 2
}
