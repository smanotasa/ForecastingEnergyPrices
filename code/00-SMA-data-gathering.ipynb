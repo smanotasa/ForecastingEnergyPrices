{
 "cells": [
  {
   "attachments": {},
   "cell_type": "markdown",
   "metadata": {},
   "source": [
    "### Libraries, paths, and set-up:"
   ]
  },
  {
   "cell_type": "code",
   "execution_count": 4,
   "metadata": {},
   "outputs": [],
   "source": [
    "import requests\n",
    "import os\n",
    "from selenium import webdriver\n",
    "from selenium.webdriver.common.action_chains import ActionChains\n",
    "from selenium.webdriver.common.by import By\n",
    "from selenium.webdriver.support.ui import WebDriverWait\n",
    "from selenium.webdriver.support import expected_conditions as EC\n",
    "import time\n",
    "os.chdir('/Users/manotas/Documents/GitHub-Repos/ML-Energy-Colombia')"
   ]
  },
  {
   "cell_type": "code",
   "execution_count": null,
   "metadata": {},
   "outputs": [],
   "source": [
    "paths = ['prices/supplyprice','prices/stockprice/national_stock','prices/marginalcost',\n",
    "         'availability','resource','capacity','generation']\n",
    "\n",
    "for i in paths:\n",
    "    if not os.path.exists('data/external/'+i):\n",
    "        os.mkdir('data/external/'+i)"
   ]
  },
  {
   "attachments": {},
   "cell_type": "markdown",
   "metadata": {},
   "source": [
    "### How to download iterative .xlsx files from source"
   ]
  },
  {
   "cell_type": "code",
   "execution_count": null,
   "metadata": {},
   "outputs": [],
   "source": [
    "# Constructing a Selenium parser for files:\n",
    "\n",
    "# A new instance of the Firefox driver\n",
    "driver = webdriver.Firefox()\n",
    "\n",
    "# Navigates to the webpage (this example is for)\n",
    "driver.get('https://sinergox.xm.com.co/trpr/Paginas/Historicos/Historicos.aspx?RootFolder=%2Ftrpr%2FHistricos%2FContratos&FolderCTID=0x012000394993FA303733428C33EC91D1DFA6DB&View=%7B5CA2173E-1541-4ec7-9D1C-E145E3DFFAE3%7D#InplviewHash5ca2173e-1541-4ec7-9d1c-e145e3dffae3=Paged%3DTRUE-p_SortBehavior%3D0-p_FileLeafRef%3DVentas%255fContrato%255f%2528kwh%2529%255f2007%252exlsx-p_ID%3D144-PageFirstRow%3D31')\n",
    "\n",
    "# Waits for the page to load\n",
    "time.sleep(5)\n",
    "\n",
    "# Finds all the links on the page\n",
    "all_links = driver.find_elements(By.TAG_NAME, 'a')\n",
    "\n",
    "# Filters the links based on the text\n",
    "links = [link for link in all_links if 'Precio_Bolsa_Nacional_($kwh)' in link.text]\n",
    "\n",
    "# Creates an instance of ActionChains\n",
    "actions = ActionChains(driver)\n",
    "\n",
    "# Iterates over the links\n",
    "for link in links:\n",
    "    # Right-clicks each link\n",
    "    actions.context_click(link).perform()\n",
    "    # Waits for the context menu to appear\n",
    "    time.sleep(10)\n",
    "    # Clicks the \"Descargar\" option\n",
    "    descargar = WebDriverWait(driver, 10).until(EC.visibility_of_element_located((By.LINK_TEXT, 'Descargar')))\n",
    "    descargar.click()\n",
    "    # Waits for the download to complete\n",
    "    time.sleep(300)\n",
    "\n",
    "# Closes the browser\n",
    "driver.quit()"
   ]
  }
 ],
 "metadata": {
  "kernelspec": {
   "display_name": "base",
   "language": "python",
   "name": "python3"
  },
  "language_info": {
   "codemirror_mode": {
    "name": "ipython",
    "version": 3
   },
   "file_extension": ".py",
   "mimetype": "text/x-python",
   "name": "python",
   "nbconvert_exporter": "python",
   "pygments_lexer": "ipython3",
   "version": "3.9.13"
  },
  "orig_nbformat": 4
 },
 "nbformat": 4,
 "nbformat_minor": 2
}
