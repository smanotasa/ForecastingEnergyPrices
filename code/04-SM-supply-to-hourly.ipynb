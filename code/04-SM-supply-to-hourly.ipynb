{
 "cells": [
  {
   "attachments": {},
   "cell_type": "markdown",
   "metadata": {},
   "source": [
    "### Libraries, paths, and set-up"
   ]
  },
  {
   "cell_type": "code",
   "execution_count": 1,
   "metadata": {},
   "outputs": [],
   "source": [
    "import pandas as pd\n",
    "import numpy as np\n",
    "import datetime as dt\n",
    "import os\n",
    "os.chdir('/Users/manotas/Documents/GitHub-Repos/ML-Energy-Colombia')\n",
    "import warnings\n",
    "from src.data.loader import data_loader\n",
    "from src.utils.utils import *\n",
    "warnings.filterwarnings('ignore')\n",
    "\n",
    "if not os.path.exists('data/processed'):\n",
    "    os.mkdir('data/processed')\n",
    "\n",
    "storing_path = 'data/processed/'"
   ]
  },
  {
   "cell_type": "code",
   "execution_count": 2,
   "metadata": {},
   "outputs": [],
   "source": [
    "# Processed dataframes\n",
    "askprice, supply = data_loader('askprice', 'supply')"
   ]
  },
  {
   "attachments": {},
   "cell_type": "markdown",
   "metadata": {},
   "source": [
    "### Handling supply data\n",
    "By market setup, ask prices are sent in daily for all hours in a day. Here we increase granularity to hourly information (repeated)."
   ]
  },
  {
   "cell_type": "code",
   "execution_count": 3,
   "metadata": {},
   "outputs": [
    {
     "name": "stdout",
     "output_type": "stream",
     "text": [
      "Plants only in supply:  {'ESUG', 'HDTG', 'RPEG', 'ABAG', 'AAGG', 'DEPG', 'GNCG', 'HLAG', 'CEEG', 'EEPG', 'EMEG', 'RTAG', 'AXEG', 'CHZG', 'NTCG', 'PECG', 'TMMG', 'ADCG', 'MCAG', 'EGPG', 'CCGG', 'EGEG', 'GSAG', 'CETG', 'GPEG', 'GLMG', 'ENUG', 'GNYG', 'HCCG', 'NRCG', 'IACG', 'DLRG', 'TRPG', 'RENG', 'HBCG', 'SPRG', 'EMSG', 'PCYG', 'BDJG', 'ERCG', 'GPYG', 'ENGG', 'SFEG', 'GDEG', 'CDNG', 'GALG', 'CMXG', 'HZEG', 'GCEG', 'HEMG', 'GCYG'}\n",
      "Plants only in askprice:  set()\n"
     ]
    }
   ],
   "source": [
    "# Some plants do not offer their generation to the main power grid, these are used only for sustaining public or private entities\n",
    "# according to law, they do have to be registered. We won't predict for these, as they do not bid in the open day-ahead market.\n",
    "supply_plants = set(supply['agent_code'])\n",
    "askprice_plants = set(askprice['agent_code'])\n",
    "\n",
    "# Plants in supply but not in askprice\n",
    "only_in_supply = supply_plants - askprice_plants\n",
    "print(\"Plants only in supply: \", only_in_supply)\n",
    "\n",
    "# Plants in askprice but not in supply\n",
    "only_in_askprice = askprice_plants - supply_plants\n",
    "print(\"Plants only in askprice: \", only_in_askprice)"
   ]
  },
  {
   "cell_type": "code",
   "execution_count": 4,
   "metadata": {},
   "outputs": [],
   "source": [
    "# Copying askprice to work with it, verifying date formatting\n",
    "askprice_c = askprice.copy()\n",
    "askprice_c = datetimer(askprice_c, col_name='date')\n",
    "\n",
    "# A new DataFrame that has all hours for all days for all plants\n",
    "all_hours = pd.date_range(start=askprice_c['date'].min(), end=askprice_c['date'].max(), freq='H')\n",
    "all_plants = askprice_c['plant'].unique()\n",
    "index = pd.MultiIndex.from_product([all_plants, all_hours], names=['plant', 'date'])\n",
    "all_data = pd.DataFrame(index=index).reset_index()\n",
    "\n",
    "# Merging this with askprice_c\n",
    "askprice_hourly = pd.merge(all_data, askprice_c, on=['plant', 'date'], how='left')\n",
    "askprice_hourly['datetime'] = askprice_hourly['date']\n",
    "#askprice_hourly = askprice_hourly.sort_values(by='date')\n",
    "\n",
    "# Filling the rest of hours in a day\n",
    "askprice_hourly['date'] = askprice_hourly['date'].dt.date\n",
    "askprice_hourly = askprice_hourly.groupby(['plant', 'date']).apply(lambda group: group.ffill())\n",
    "askprice_hourly\n",
    "\n",
    "# Dropping the current multindex, sorting by time and plant, reindexing\n",
    "askprice_hourly = askprice_hourly.reset_index(drop=True)\n",
    "askprice_hourly = askprice_hourly.sort_values(by=['plant', 'datetime'])\n",
    "askprice_hourly = askprice_hourly.reset_index(drop=True)\n",
    "\n",
    "# This leaves us with NaNs for those plants that didn't offer in a particular day, for agent_code we can look to the original dfs\n",
    "# for the price points, we can assume they didn't offer (0)\n",
    "plant_agent_dict = askprice_c.dropna(subset=['agent_code']).set_index('plant')['agent_code'].to_dict()\n",
    "\n",
    "# Filling NaN values in the 'agent_code' column of the 'askprice_hourly' df\n",
    "askprice_hourly.loc[askprice_hourly['agent_code'].isna(), 'agent_code'] = askprice_hourly.loc[askprice_hourly['agent_code'].isna(), 'plant'].map(plant_agent_dict)\n",
    "\n",
    "# Filling monetary NaN values\n",
    "askprice_hourly = askprice_hourly.fillna(0)\n",
    "askprice_hourly = askprice_hourly.reset_index(drop=True)\n",
    "askprice_hourly = askprice_hourly.drop(columns=['date'])\n",
    "\n",
    "# Storing\n",
    "askprice_hourly.to_csv(storing_path + 'h_supplyprice.csv', index=False)"
   ]
  },
  {
   "cell_type": "code",
   "execution_count": 5,
   "metadata": {},
   "outputs": [],
   "source": [
    "# Constructing a full supply dataframe with all prices, all supply offerings (availability), for all plants, at all dates\n",
    "supply = datetimer(supply)\n",
    "\n",
    "fullsupply = askprice_hourly.merge(supply, on=['plant','agent_code','datetime'], how='left')\n",
    "fullsupply = fullsupply.fillna(0)\n",
    "\n",
    "# Storing for ease of coding\n",
    "fullsupply.to_csv(storing_path + 'fullsupply.csv', index=False)"
   ]
  }
 ],
 "metadata": {
  "kernelspec": {
   "display_name": "base",
   "language": "python",
   "name": "python3"
  },
  "language_info": {
   "codemirror_mode": {
    "name": "ipython",
    "version": 3
   },
   "file_extension": ".py",
   "mimetype": "text/x-python",
   "name": "python",
   "nbconvert_exporter": "python",
   "pygments_lexer": "ipython3",
   "version": "3.9.13"
  },
  "orig_nbformat": 4
 },
 "nbformat": 4,
 "nbformat_minor": 2
}
