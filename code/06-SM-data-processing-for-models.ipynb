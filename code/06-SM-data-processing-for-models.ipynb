{
 "cells": [
  {
   "attachments": {},
   "cell_type": "markdown",
   "metadata": {},
   "source": [
    "### Libraries, paths, and set-up"
   ]
  },
  {
   "cell_type": "code",
   "execution_count": 1,
   "metadata": {},
   "outputs": [],
   "source": [
    "import pandas as pd\n",
    "import numpy as np\n",
    "import os\n",
    "os.chdir('/Users/manotas/Documents/GitHub-Repos/ML-Energy-Colombia')\n",
    "import src.utils.utils\n",
    "import src.utils.calculations\n",
    "from src.data.loader import data_loader\n",
    "import warnings\n",
    "warnings.filterwarnings('ignore')\n",
    "\n",
    "storing_path = 'data/processed/'"
   ]
  },
  {
   "cell_type": "code",
   "execution_count": 9,
   "metadata": {},
   "outputs": [],
   "source": [
    "soi, capacity, resource = data_loader('soi','capacity', 'resource')\n",
    "market = pd.read_csv('data/processed/market.csv')"
   ]
  },
  {
   "attachments": {},
   "cell_type": "markdown",
   "metadata": {},
   "source": [
    "### Increasing SOI granularity to hourly"
   ]
  },
  {
   "cell_type": "code",
   "execution_count": 10,
   "metadata": {},
   "outputs": [],
   "source": [
    "# Convert 'date' column to datetime format\n",
    "soi_h = soi.copy()\n",
    "soi_h = datetimer(soi_h, col_name='date')\n",
    "\n",
    "# set 'date' as index\n",
    "soi_h.set_index('date', inplace=True)\n",
    "\n",
    "# resample data to an hourly frequency\n",
    "soi_h = soi_h.resample('H').asfreq()\n",
    "soi_h = soi_h.fillna(method='ffill')\n",
    "soi_h = soi_h.reset_index(drop=False)\n",
    "soi_h = soi_h.rename(columns={'date':'datetime'})\n",
    "soi_h.to_csv(storing_path + 'h_soi.csv')"
   ]
  },
  {
   "attachments": {},
   "cell_type": "markdown",
   "metadata": {},
   "source": [
    "### Merging SOI information to market information"
   ]
  },
  {
   "cell_type": "code",
   "execution_count": 11,
   "metadata": {},
   "outputs": [],
   "source": [
    "posmarket = market[market['markup'] > 0]\n",
    "iqrmarket = iqr_filter_yearly(posmarket, 'markup')"
   ]
  },
  {
   "cell_type": "code",
   "execution_count": 12,
   "metadata": {},
   "outputs": [],
   "source": [
    "iqrmarket = datetimer(iqrmarket)\n",
    "iqrmarketsoi = iqrmarket.merge(soi_h, how='left', on='datetime')\n",
    "\n",
    "# Replacing these plants since they were grouped after 2011\n",
    "iqrmarketsoi['plant'] = iqrmarketsoi['plant'].replace({'FLORES 2':'FLORES 4 CC',\n",
    "                                                      'FLORES 3':'FLORES 4 CC'})\n",
    "\n",
    "fulldata = iqrmarketsoi.merge(resource[['plant','heat_rate','agent','technology','fuel','netcapacity_kW']], how='left', on='plant')\n",
    "\n",
    "fulldata = fulldata.drop(columns=['year','month','agent_code'])\n",
    "\n",
    "fulldata.to_csv(storing_path + 'fulldata.csv', index=False)"
   ]
  },
  {
   "cell_type": "code",
   "execution_count": 13,
   "metadata": {},
   "outputs": [
    {
     "data": {
      "text/plain": [
       "plant                 0\n",
       "daily_ask             0\n",
       "datetime              0\n",
       "supply_hourly         0\n",
       "demand_hourly         0\n",
       "hourly_bid            0\n",
       "hourly_mc             0\n",
       "total_supply_agent    0\n",
       "total_supply_t        0\n",
       "residual_supply       0\n",
       "rsi_agent             0\n",
       "market_share_agent    0\n",
       "markup                0\n",
       "lerner                0\n",
       "comp_markup           0\n",
       "comp_lerner           0\n",
       "soi                   0\n",
       "heat_rate             0\n",
       "agent                 0\n",
       "technology            0\n",
       "fuel                  0\n",
       "netcapacity_kW        0\n",
       "dtype: int64"
      ]
     },
     "execution_count": 13,
     "metadata": {},
     "output_type": "execute_result"
    }
   ],
   "source": [
    "fulldata.isna().sum()"
   ]
  }
 ],
 "metadata": {
  "kernelspec": {
   "display_name": "base",
   "language": "python",
   "name": "python3"
  },
  "language_info": {
   "codemirror_mode": {
    "name": "ipython",
    "version": 3
   },
   "file_extension": ".py",
   "mimetype": "text/x-python",
   "name": "python",
   "nbconvert_exporter": "python",
   "pygments_lexer": "ipython3",
   "version": "3.9.13"
  },
  "orig_nbformat": 4
 },
 "nbformat": 4,
 "nbformat_minor": 2
}
