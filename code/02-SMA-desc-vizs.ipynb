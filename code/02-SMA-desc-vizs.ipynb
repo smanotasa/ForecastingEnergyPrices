{
 "cells": [
  {
   "attachments": {},
   "cell_type": "markdown",
   "id": "ce8ca995",
   "metadata": {},
   "source": [
    "### Libraries, paths, and set-up"
   ]
  },
  {
   "cell_type": "code",
   "execution_count": null,
   "id": "c9cc5a62",
   "metadata": {},
   "outputs": [],
   "source": [
    "import pandas as pd\n",
    "import numpy as np\n",
    "import seaborn as sns\n",
    "import matplotlib.pyplot as plt\n",
    "import plotly.express as px\n",
    "import plotly.io as pio\n",
    "import datetime as dt\n",
    "import os\n",
    "os.chdir('..')\n",
    "from plotly.subplots import make_subplots\n",
    "import plotly.graph_objects as go\n",
    "from src.data.loader import data_loader\n",
    "from src.vizs.imager import *\n",
    "from src.utils.utils import *\n",
    "\n",
    "if not os.path.exists('reports/images'):\n",
    "    os.mkdir('reports/images')"
   ]
  },
  {
   "attachments": {},
   "cell_type": "markdown",
   "id": "d60704c4",
   "metadata": {},
   "source": [
    "We make use of a particularly defined function to load interim data"
   ]
  },
  {
   "cell_type": "code",
   "execution_count": null,
   "id": "90320d1d",
   "metadata": {},
   "outputs": [],
   "source": [
    "# Processed dataframes\n",
    "soi, capacity, askprice, bidprice, resource, demand, supply, price_fuel, mcost, generation = data_loader()\n",
    "\n",
    "# Latest shares\n",
    "share2022 = capacity[20933:]\n",
    "\n",
    "# 2022-Gen-SIN\n",
    "gen2022 = pd.read_excel('data/external/2022_GENERACIONSIN.xlsx',header=0, nrows=433, \n",
    "                        names=['plant','dispatch_type','gen_GWh','share %'])"
   ]
  },
  {
   "attachments": {},
   "cell_type": "markdown",
   "id": "53de5d77",
   "metadata": {},
   "source": [
    "### Histograms\n",
    "At level and log transformations"
   ]
  },
  {
   "cell_type": "code",
   "execution_count": null,
   "id": "b40033bd",
   "metadata": {},
   "outputs": [],
   "source": [
    "# Level Hist 1\n",
    "data_list = [askprice, supply, bidprice, demand]\n",
    "cols = ['daily_ask', 'supply_hourly', 'hourly_bid', 'demand_hourly']\n",
    "names = ['Daily Ask Price', 'Hourly Supply', 'Hourly Bid Price', 'Hourly Demand']\n",
    "x_titles = ['COP/kWh', 'kW', 'COP/kWh', 'kW']\n",
    "colors = ['navy', 'blue', 'firebrick', 'red']\n",
    "rows = [1, 1, 2, 2]\n",
    "cols_nums = [1, 2, 1, 2]\n",
    "ylogs = [False, False, False, False]\n",
    "filename = 'images/histograms.pdf'\n",
    "hist = create_subplots(data_list, cols, names, x_titles, colors, rows, cols_nums, ylogs, filename)"
   ]
  },
  {
   "cell_type": "code",
   "execution_count": null,
   "id": "0d819d9a",
   "metadata": {},
   "outputs": [],
   "source": [
    "# Level Hist 2\n",
    "data_list = [capacity, resource, mcost, generation]\n",
    "cols = ['capacity_kW', 'heat_rate', 'hourly_mc', 'generation_hourly']\n",
    "names = ['Daily Installed Capacity', 'Heat Rate', 'Hourly Marginal Cost', 'Hourly Generation']\n",
    "x_titles = ['kW', 'BTU', 'COP/kWh', 'kW']\n",
    "colors = ['navy', 'blue', 'firebrick', 'red']\n",
    "rows = [1, 1, 2, 2]\n",
    "cols_nums = [1, 2, 1, 2]\n",
    "ylogs = [False, False, False, False]\n",
    "filename = 'images/histograms2.pdf'\n",
    "hist = create_subplots(data_list, cols, names, x_titles, colors, rows, cols_nums, ylogs, filename)"
   ]
  },
  {
   "cell_type": "code",
   "execution_count": null,
   "id": "aa6fa995",
   "metadata": {},
   "outputs": [],
   "source": [
    "# Log Hist 1\n",
    "data_list = [askprice, supply, bidprice, demand]\n",
    "cols = ['daily_ask', 'supply_hourly', 'hourly_bid', 'demand_hourly']\n",
    "names = ['Daily Ask Price', 'Hourly Supply', 'Hourly Bid Price', 'Hourly Demand']\n",
    "x_titles = ['COP/kWh', 'kW', 'COP/kWh', 'kW']\n",
    "colors = ['navy', 'blue', 'firebrick', 'red']\n",
    "rows = [1, 1, 2, 2]\n",
    "cols_nums = [1, 2, 1, 2]\n",
    "ylogs = [True, True, True, True]\n",
    "filename = 'images/loghistograms.pdf'\n",
    "hist = create_subplots(data_list, cols, names, x_titles, colors, rows, cols_nums, ylogs, filename)"
   ]
  },
  {
   "cell_type": "code",
   "execution_count": null,
   "id": "44a41390",
   "metadata": {},
   "outputs": [],
   "source": [
    "# Level Hist 2\n",
    "data_list = [capacity, resource, mcost, generation]\n",
    "cols = ['capacity_kW', 'heat_rate', 'hourly_mc', 'generation_hourly']\n",
    "names = ['Daily Installed Capacity', 'Heat Rate', 'Hourly Marginal Cost', 'Hourly Generation']\n",
    "x_titles = ['kW', 'BTU', 'COP/kWh', 'kW']\n",
    "colors = ['navy', 'blue', 'firebrick', 'red']\n",
    "rows = [1, 1, 2, 2]\n",
    "cols_nums = [1, 2, 1, 2]\n",
    "ylogs = [True, True, True, True]\n",
    "filename = 'images/loghistograms2.pdf'\n",
    "hist = create_subplots(data_list, cols, names, x_titles, colors, rows, cols_nums, ylogs, filename)"
   ]
  },
  {
   "attachments": {},
   "cell_type": "markdown",
   "id": "045eab39",
   "metadata": {},
   "source": [
    "### El Niño Phenomenon\n",
    "Visualizing through our time period"
   ]
  },
  {
   "cell_type": "code",
   "execution_count": null,
   "id": "a3cb3fc6",
   "metadata": {
    "scrolled": true
   },
   "outputs": [],
   "source": [
    "soi_month = soi.groupby('month')['soi'].mean().reset_index()\n",
    "soi_month['color'] = np.where(soi_month['soi']<0, 'red', 'navy')\n",
    "\n",
    "soi=px.bar(soi_month, x='month', y='soi',\n",
    "       labels={'month':'Month', 'soi':'Southern Oscillation Index'}, template='plotly_white')\n",
    "soi.update_traces(marker_color=soi_month[\"color\"])\n",
    "soi.update_layout(font_color='black',font_family='Latin Modern Math')\n",
    "\n",
    "soi.show()\n",
    "soi.write_image('images/SOI.pdf', scale=2)"
   ]
  },
  {
   "attachments": {},
   "cell_type": "markdown",
   "id": "364610cf",
   "metadata": {},
   "source": [
    "### Market description\n",
    "Visualizing capacity and plant participation"
   ]
  },
  {
   "cell_type": "code",
   "execution_count": null,
   "id": "711f08ba",
   "metadata": {},
   "outputs": [],
   "source": [
    "# Shares x Technology @ 2022-12-31\n",
    "values = share2022['capacity_kW'].unique().tolist()\n",
    "labels = share2022['technology'].unique().tolist()\n",
    "colors = ['darkgrey','navy', 'slategrey', 'red','dimgrey']\n",
    "formatted_sum = \"{:,.2f} GW\".format(share2022['capacity_kW'].sum()/(10**6))\n",
    "\n",
    "sharetech = go.Figure(data=[go.Pie(labels=labels, values=values, hole=.5,\n",
    "                             marker=dict(colors=colors),\n",
    "                             insidetextfont=dict(size=18),\n",
    "                             outsidetextfont=dict(size=18))])\n",
    "\n",
    "sharetech.update_layout(font_family='Latin Modern Math', template='plotly_white',\n",
    "                 annotations=[dict(text=formatted_sum, \n",
    "                                   x=0.5, y=0.5, font_size=18, showarrow=False)])\n",
    "\n",
    "sharetech.show()\n",
    "sharetech.write_image('images/sharetech2022.pdf', scale=2)"
   ]
  },
  {
   "cell_type": "code",
   "execution_count": null,
   "id": "dba10240",
   "metadata": {},
   "outputs": [],
   "source": [
    "# Showcasing most relevant plants\n",
    "gen2022top = gen2022[gen2022['share %'] > 0.01]\n",
    "\n",
    "top20 = px.bar(gen2022top, x='plant', y='share %', labels={\n",
    "                     'plant': 'Power Plant',\n",
    "                     'share %': 'Market Share (%)'\n",
    "                 }, \n",
    "             color_discrete_sequence=['navy'],\n",
    "             template='plotly_white')\n",
    "\n",
    "top20.update_yaxes(tickvals=[0, 0.02, 0.04, 0.06, 0.08, 0.10, 0.12],  \n",
    "                   ticktext=[0, 2, 4, 6, 8, 10, 12]) \n",
    "\n",
    "top20.add_annotation(x=19.5, y=0.1,\n",
    "                     text=f'{gen2022[\"gen_GWh\"].sum():.2f} GWh',\n",
    "                     showarrow=False, font=dict(size=14))\n",
    "\n",
    "top20.update_layout(xaxis_tickangle=-90)\n",
    "top20.update_layout(font_color='black', font_family='Latin Modern Math')\n",
    "top20.show()\n",
    "top20.write_image('images/plants2022.pdf', scale=2)"
   ]
  },
  {
   "attachments": {},
   "cell_type": "markdown",
   "id": "f9946695",
   "metadata": {},
   "source": [
    "### Prices and quantities\n",
    "Visualizing market relevant information: demand, supply, ask (supply) price by fuel, bid (demand) price, and marginal cost"
   ]
  },
  {
   "cell_type": "code",
   "execution_count": null,
   "id": "b512fc57",
   "metadata": {},
   "outputs": [],
   "source": [
    "# Supply DF\n",
    "supply_fuel = supply.merge(resource[['plant','fuel','agent']], on='plant', how='left')\n",
    "supply_fuel = datetimer(supply_fuel)\n",
    "supply_fuel['date'] = supply_fuel['datetime'].dt.date\n",
    "supply_fuel_summ = supply_fuel.groupby(['date', 'fuel'])['supply_hourly'].sum().reset_index()\n",
    "supply_fuel_summ['supply_GWh'] = supply_fuel_summ['supply_hourly']/1000000\n",
    "supply_fuel_summ = supply_fuel_summ.drop(columns=['supply_hourly'])\n",
    "\n",
    "# Demand DF\n",
    "demand_c = demand.copy()\n",
    "demand_c = datetimer(demand_c)\n",
    "demand_c['date'] = demand_c['datetime'].dt.date\n",
    "demand_summ = demand_c.groupby(['date'])['demand_hourly'].sum().reset_index()\n",
    "demand_summ['demand_GWh'] = demand_summ['demand_hourly']/1000000\n",
    "demand_summ = demand_summ.drop(columns=['demand_hourly'])\n",
    "\n",
    "# Graphing variables\n",
    "color_map = {'Water': 'navy', 'Coal': 'dimgrey', 'Gas': 'red'}\n",
    "tickvals = pd.date_range(start='2010-01-01', end='2023-01-01', freq='YS').astype(str).tolist()\n",
    "ticktext = list(range(2010, 2023))"
   ]
  },
  {
   "cell_type": "code",
   "execution_count": null,
   "id": "9d4e84be",
   "metadata": {},
   "outputs": [],
   "source": [
    "pricefuel = make_subplots(rows=2, cols=1, shared_xaxes=True, shared_yaxes=True, vertical_spacing=0.25)\n",
    "\n",
    "pricefuel = supply_tracer(pricefuel, price_fuel, 'date', 'wa_ask', ['Water', 'Coal', 'Gas'], 'Ask', 1, 1, color_map)\n",
    "\n",
    "# Bid Price\n",
    "pricefuel.add_trace(go.Scatter(\n",
    "    x=price_fuel['date'],\n",
    "    y=price_fuel['wa_bid'],\n",
    "    mode='lines',\n",
    "    name='Bid',\n",
    "    line=dict(color='slategrey'), \n",
    "), row=2, col=1)\n",
    "\n",
    "pricefuel.update_layout(\n",
    "    font_color='black', \n",
    "    font_family='Latin Modern Math',\n",
    "    template='plotly_white',\n",
    ")\n",
    "\n",
    "pricefuel.update_xaxes(\n",
    "    dtick='D1',  \n",
    "    tickformat='%Y-%m-%d', \n",
    "    tickvals=tickvals,  \n",
    "    ticktext=ticktext,  \n",
    "    row=2, col=1\n",
    ")\n",
    "\n",
    "pricefuel.update_xaxes(title_text='Date', row=2, col=1)\n",
    "pricefuel.update_yaxes(title_text='COP/kWh', row=1, col=1)\n",
    "pricefuel.update_yaxes(title_text='COP/kWh', row=2, col=1)\n",
    "\n",
    "pricefuel.show()\n",
    "pricefuel.write_image('images/dailyprice.pdf', scale=2)"
   ]
  },
  {
   "cell_type": "code",
   "execution_count": null,
   "id": "68e4e063",
   "metadata": {},
   "outputs": [],
   "source": [
    "sdfuel = make_subplots(rows=2, cols=1, shared_xaxes=True, shared_yaxes=True, vertical_spacing=0.25)\n",
    "\n",
    "sdfuel = supply_tracer(sdfuel, supply_fuel_summ, 'date', 'supply_GWh', ['Water', 'Coal', 'Gas'], 'Supply', 1, 1, color_map)\n",
    "\n",
    "# Demand\n",
    "sdfuel.add_trace(go.Scatter(\n",
    "    x=demand_summ['date'],\n",
    "    y=demand_summ['demand_GWh'],\n",
    "    mode='lines',\n",
    "    name='Demand',\n",
    "    line=dict(color='slategrey'), \n",
    "), row=2, col=1)\n",
    "\n",
    "sdfuel.update_layout(\n",
    "    font_color='black', \n",
    "    font_family='Latin Modern Math',\n",
    "    template='plotly_white',\n",
    ")\n",
    "\n",
    "sdfuel.update_xaxes(\n",
    "    dtick=\"D1\",  \n",
    "    tickformat=\"%Y-%m-%d\",  \n",
    "    tickvals=tickvals,  \n",
    "    ticktext=ticktext,  \n",
    ")\n",
    "\n",
    "sdfuel.update_xaxes(title_text='Date', row=2, col=1)\n",
    "sdfuel.update_yaxes(title_text='GWh', row=1, col=1)\n",
    "sdfuel.update_yaxes(title_text='GWh', row=2, col=1)\n",
    "\n",
    "sdfuel.show()\n",
    "sdfuel.write_image('images/dailysupplydemand.pdf', scale=2)"
   ]
  }
 ],
 "metadata": {
  "kernelspec": {
   "display_name": "Python 3 (ipykernel)",
   "language": "python",
   "name": "python3"
  },
  "language_info": {
   "codemirror_mode": {
    "name": "ipython",
    "version": 3
   },
   "file_extension": ".py",
   "mimetype": "text/x-python",
   "name": "python",
   "nbconvert_exporter": "python",
   "pygments_lexer": "ipython3",
   "version": "3.11.3"
  }
 },
 "nbformat": 4,
 "nbformat_minor": 5
}
