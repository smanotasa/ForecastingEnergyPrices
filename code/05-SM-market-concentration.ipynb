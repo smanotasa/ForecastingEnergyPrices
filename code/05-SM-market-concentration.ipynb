{
 "cells": [
  {
   "attachments": {},
   "cell_type": "markdown",
   "metadata": {},
   "source": [
    "### Libraries, paths, and set-up"
   ]
  },
  {
   "cell_type": "code",
   "execution_count": 1,
   "metadata": {},
   "outputs": [],
   "source": [
    "import pandas as pd\n",
    "import numpy as np\n",
    "import datetime as dt\n",
    "import math\n",
    "import os\n",
    "os.chdir('/Users/manotas/Documents/GitHub-Repos/ML-Energy-Colombia')\n",
    "import warnings\n",
    "from src.data.loader import data_loader\n",
    "from src.utils.utils import *\n",
    "from src.utils.calculations import *\n",
    "warnings.filterwarnings('ignore')\n",
    "import plotly.express as px\n",
    "import plotly.io as pio\n",
    "from plotly.subplots import make_subplots\n",
    "import plotly.graph_objects as go\n",
    "import statsmodels.api as sm\n",
    "import statsmodels.formula.api as smf\n",
    "from linearmodels.panel import PanelOLS\n",
    "import linearmodels as lm\n",
    "\n",
    "\n",
    "storing_path = 'data/processed/'"
   ]
  },
  {
   "cell_type": "code",
   "execution_count": 2,
   "metadata": {},
   "outputs": [],
   "source": [
    "# Loading previous datasets\n",
    "fullsupply = pd.read_csv(storing_path + 'fullsupply.csv')\n",
    "demand, mcost, bidprice = data_loader('demand', 'mcost', 'bidprice')\n",
    "\n",
    "for i in [fullsupply, mcost, demand]:\n",
    "    i = datetimer(i)"
   ]
  },
  {
   "attachments": {},
   "cell_type": "markdown",
   "metadata": {},
   "source": [
    "### Handling demand data"
   ]
  },
  {
   "cell_type": "code",
   "execution_count": 9,
   "metadata": {},
   "outputs": [],
   "source": [
    "# Constucting a dataframe with all relevant information for demand\n",
    "fulldemand = demand.groupby('datetime')['demand_hourly'].sum().reset_index()\n",
    "fulldemand = fulldemand.merge(bidprice, on='datetime', how='left')\n",
    "fulldemand.to_csv(storing_path + 'fulldemand.csv', index=False)"
   ]
  },
  {
   "attachments": {},
   "cell_type": "markdown",
   "metadata": {},
   "source": [
    "### Merging supply and demand\n",
    "Constructing a complete dataframe with all market information"
   ]
  },
  {
   "cell_type": "code",
   "execution_count": 10,
   "metadata": {},
   "outputs": [],
   "source": [
    "# Merging both market forces (and marginal cost) into one dataframe\n",
    "market = fullsupply.merge(fulldemand, on='datetime', how='left')\n",
    "market = market.merge(mcost, on='datetime', how='left')\n",
    "market = market.drop(columns=['ideal_ask','dispatch_ask'])\n",
    "\n",
    "# Calculating market concentration measures for all observations\n",
    "functions = [calculate_rsi, calculate_lerner]\n",
    "\n",
    "for func in functions:\n",
    "    market = func(market)\n",
    "\n",
    "market = market.sort_values(by=['datetime','plant'])\n",
    "market = market.reset_index(drop=True)\n",
    "\n",
    "market.to_csv(storing_path + 'market.csv', index=False)"
   ]
  },
  {
   "attachments": {},
   "cell_type": "markdown",
   "metadata": {},
   "source": [
    "### Filtering the data"
   ]
  },
  {
   "cell_type": "code",
   "execution_count": 5,
   "metadata": {},
   "outputs": [],
   "source": [
    "# Now focusing on exclusively positive markups, since those are the ones dispatched at any given timestamp\n",
    "posmarket = market[market['markup'] > 0]\n",
    "# And focusing on those with no outliers, since there is the possbility of discretionary high pricing to not dispatch in a day\n",
    "# or discretionary low pricing to effectively dispatch during a day\n",
    "iqrmarket = iqr_filter_yearly(posmarket, 'markup')"
   ]
  },
  {
   "attachments": {},
   "cell_type": "markdown",
   "metadata": {},
   "source": [
    "### How to assess market concentration?\n",
    "Ideally, the market would clearly fully at competitive pricing, as explained, this is not verifiable and market power may be existent"
   ]
  },
  {
   "cell_type": "code",
   "execution_count": 6,
   "metadata": {},
   "outputs": [],
   "source": [
    "# Verifying the correlation between RSI, markups, and the Lerner index\n",
    "iqrmarket_r = iqrmarket.copy()\n",
    "iqrmarket_r = datetimer(iqrmarket_r)\n",
    "iqrmarket_r.set_index(['agent_code', 'datetime'], inplace=True)"
   ]
  },
  {
   "attachments": {},
   "cell_type": "markdown",
   "metadata": {},
   "source": [
    "A FE (fixed effects) regression to control for time-invariant unobserved individual effects. `EntityEffects` represents the fixed effects component of the model. This will add a dummy variable for each unique agent in the data (minus one to avoid the dummy variable trap). Since we asusme that individuals relaying market power are agents through their power plants."
   ]
  },
  {
   "cell_type": "code",
   "execution_count": 7,
   "metadata": {},
   "outputs": [
    {
     "name": "stdout",
     "output_type": "stream",
     "text": [
      "                          PanelOLS Estimation Summary                           \n",
      "================================================================================\n",
      "Dep. Variable:                 markup   R-squared:                        0.0014\n",
      "Estimator:                   PanelOLS   R-squared (Between):             -0.2965\n",
      "No. Observations:             3554311   R-squared (Within):               0.0014\n",
      "Date:                Sat, Feb 24 2024   R-squared (Overall):             -0.2039\n",
      "Time:                        03:32:19   Log-likelihood                -2.483e+07\n",
      "Cov. Estimator:             Clustered                                           \n",
      "                                        F-statistic:                      4850.8\n",
      "Entities:                          27   P-value                           0.0000\n",
      "Avg Obs:                    1.316e+05   Distribution:               F(1,3554283)\n",
      "Min Obs:                       1.0000                                           \n",
      "Max Obs:                    7.716e+05   F-statistic (robust):             6.2523\n",
      "                                        P-value                           0.0124\n",
      "Time periods:                  113882   Distribution:               F(1,3554283)\n",
      "Avg Obs:                       31.210                                           \n",
      "Min Obs:                       1.0000                                           \n",
      "Max Obs:                       63.000                                           \n",
      "                                                                                \n",
      "                             Parameter Estimates                              \n",
      "==============================================================================\n",
      "            Parameter  Std. Err.     T-stat    P-value    Lower CI    Upper CI\n",
      "------------------------------------------------------------------------------\n",
      "rsi_agent     -32.804     13.119    -2.5005     0.0124     -58.518     -7.0909\n",
      "==============================================================================\n",
      "\n",
      "F-test for Poolability: 4.358e+04\n",
      "P-value: 0.0000\n",
      "Distribution: F(26,3554283)\n",
      "\n",
      "Included effects: Entity\n"
     ]
    }
   ],
   "source": [
    "femod = PanelOLS.from_formula('markup ~ rsi_agent + EntityEffects', data=iqrmarket_r)\n",
    "fe_res = femod.fit(cov_type='clustered', cluster_entity=True)\n",
    "\n",
    "print(fe_res)"
   ]
  },
  {
   "attachments": {},
   "cell_type": "markdown",
   "metadata": {},
   "source": [
    "A random effects model assuming that individual-specific effects are uncorrelated with the regressors; a pooled OLS regression"
   ]
  },
  {
   "cell_type": "code",
   "execution_count": 8,
   "metadata": {},
   "outputs": [
    {
     "name": "stdout",
     "output_type": "stream",
     "text": [
      "                        RandomEffects Estimation Summary                        \n",
      "================================================================================\n",
      "Dep. Variable:                 markup   R-squared:                        0.0014\n",
      "Estimator:              RandomEffects   R-squared (Between):             -0.2958\n",
      "No. Observations:             3554311   R-squared (Within):               0.0014\n",
      "Date:                Sat, Feb 24 2024   R-squared (Overall):             -0.2034\n",
      "Time:                        03:32:27   Log-likelihood                -2.483e+07\n",
      "Cov. Estimator:            Unadjusted                                           \n",
      "                                        F-statistic:                      4832.4\n",
      "Entities:                          27   P-value                           0.0000\n",
      "Avg Obs:                    1.316e+05   Distribution:               F(1,3554310)\n",
      "Min Obs:                       1.0000                                           \n",
      "Max Obs:                    7.716e+05   F-statistic (robust):             4832.4\n",
      "                                        P-value                           0.0000\n",
      "Time periods:                  113882   Distribution:               F(1,3554310)\n",
      "Avg Obs:                       31.210                                           \n",
      "Min Obs:                       1.0000                                           \n",
      "Max Obs:                       63.000                                           \n",
      "                                                                                \n",
      "                             Parameter Estimates                              \n",
      "==============================================================================\n",
      "            Parameter  Std. Err.     T-stat    P-value    Lower CI    Upper CI\n",
      "------------------------------------------------------------------------------\n",
      "rsi_agent     -32.736     0.4709    -69.516     0.0000     -33.659     -31.813\n",
      "==============================================================================\n"
     ]
    }
   ],
   "source": [
    "remod = lm.RandomEffects.from_formula('markup ~ rsi_agent', data=iqrmarket_r)\n",
    "results = remod.fit()\n",
    "\n",
    "print(results)"
   ]
  }
 ],
 "metadata": {
  "kernelspec": {
   "display_name": "base",
   "language": "python",
   "name": "python3"
  },
  "language_info": {
   "codemirror_mode": {
    "name": "ipython",
    "version": 3
   },
   "file_extension": ".py",
   "mimetype": "text/x-python",
   "name": "python",
   "nbconvert_exporter": "python",
   "pygments_lexer": "ipython3",
   "version": "3.9.13"
  },
  "orig_nbformat": 4
 },
 "nbformat": 4,
 "nbformat_minor": 2
}
